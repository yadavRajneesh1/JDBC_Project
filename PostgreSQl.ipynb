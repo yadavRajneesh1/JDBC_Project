{
 "cells": [
  {
   "cell_type": "code",
   "execution_count": 6,
   "metadata": {},
   "outputs": [
    {
     "name": "stdout",
     "output_type": "stream",
     "text": [
      "Processing /home/rajneeshyadav/.cache/pip/wheels/7e/5b/53/30085c62689dcfce50c8f40759945a49eb856af082e9ebf751/psycopg2-2.8.4-cp36-cp36m-linux_x86_64.whl\n",
      "Installing collected packages: psycopg2\n",
      "Successfully installed psycopg2-2.8.4\n"
     ]
    }
   ],
   "source": [
    "!pip3 install psycopg2 --user"
   ]
  },
  {
   "cell_type": "code",
   "execution_count": 13,
   "metadata": {},
   "outputs": [
    {
     "name": "stdout",
     "output_type": "stream",
     "text": [
      "/bin/sh: 1: conninfo: not found\r\n"
     ]
    }
   ],
   "source": [
    "!conninfo"
   ]
  },
  {
   "cell_type": "code",
   "execution_count": 30,
   "metadata": {},
   "outputs": [],
   "source": [
    "import psycopg2"
   ]
  },
  {
   "cell_type": "code",
   "execution_count": 37,
   "metadata": {},
   "outputs": [],
   "source": [
    "from psycopg2 import Error"
   ]
  },
  {
   "cell_type": "code",
   "execution_count": 56,
   "metadata": {},
   "outputs": [],
   "source": [
    "connection = psycopg2.connect(user = \"raj\",\n",
    "                                  password = \"raj\",\n",
    "                                  host = \"127.0.0.1\",\n",
    "                                  port = \"5432\",\n",
    "                                  database = \"raj\")"
   ]
  },
  {
   "cell_type": "code",
   "execution_count": 54,
   "metadata": {},
   "outputs": [
    {
     "data": {
      "text/plain": [
       "<connection object at 0x7f8d38141048; dsn: 'user=raj password=xxx dbname=raj host=127.0.0.1 port=5432', closed: 0>"
      ]
     },
     "execution_count": 54,
     "metadata": {},
     "output_type": "execute_result"
    }
   ],
   "source": [
    "connection"
   ]
  },
  {
   "cell_type": "code",
   "execution_count": 33,
   "metadata": {},
   "outputs": [],
   "source": [
    "cursor = connection.cursor()"
   ]
  },
  {
   "cell_type": "code",
   "execution_count": 34,
   "metadata": {},
   "outputs": [
    {
     "data": {
      "text/plain": [
       "<cursor object at 0x7f8d3d0a5710; closed: 0>"
      ]
     },
     "execution_count": 34,
     "metadata": {},
     "output_type": "execute_result"
    }
   ],
   "source": [
    "cursor"
   ]
  },
  {
   "cell_type": "code",
   "execution_count": 35,
   "metadata": {},
   "outputs": [
    {
     "name": "stdout",
     "output_type": "stream",
     "text": [
      "{'user': 'raj', 'dbname': 'postgres', 'host': '127.0.0.1', 'port': '5432', 'tty': '', 'options': '', 'sslmode': 'prefer', 'sslcompression': '1', 'krbsrvname': 'postgres', 'target_session_attrs': 'any'} \n",
      "\n"
     ]
    }
   ],
   "source": [
    "print ( connection.get_dsn_parameters(),\"\\n\")"
   ]
  },
  {
   "cell_type": "code",
   "execution_count": 39,
   "metadata": {},
   "outputs": [
    {
     "name": "stdout",
     "output_type": "stream",
     "text": [
      "None\n"
     ]
    }
   ],
   "source": [
    "print(cursor.execute(\"SELECT version();\"))"
   ]
  },
  {
   "cell_type": "code",
   "execution_count": 42,
   "metadata": {},
   "outputs": [],
   "source": [
    "record = cursor.fetchone()"
   ]
  },
  {
   "cell_type": "code",
   "execution_count": 43,
   "metadata": {},
   "outputs": [
    {
     "name": "stdout",
     "output_type": "stream",
     "text": [
      "You are connected to -  ('PostgreSQL 10.10 (Ubuntu 10.10-0ubuntu0.18.04.1) on x86_64-pc-linux-gnu, compiled by gcc (Ubuntu 7.4.0-1ubuntu1~18.04.1) 7.4.0, 64-bit',) \n",
      "\n"
     ]
    }
   ],
   "source": [
    "print(\"You are connected to - \", record,\"\\n\")"
   ]
  },
  {
   "cell_type": "code",
   "execution_count": 44,
   "metadata": {},
   "outputs": [],
   "source": [
    "cursor.close()"
   ]
  },
  {
   "cell_type": "code",
   "execution_count": 57,
   "metadata": {},
   "outputs": [],
   "source": [
    "connection.close()"
   ]
  },
  {
   "cell_type": "code",
   "execution_count": 52,
   "metadata": {},
   "outputs": [
    {
     "data": {
      "text/plain": [
       "<connection object at 0x7f8d381413f0; dsn: 'user=raj password=xxx dbname=postgres host=127.0.0.1 port=5432', closed: 1>"
      ]
     },
     "execution_count": 52,
     "metadata": {},
     "output_type": "execute_result"
    }
   ],
   "source": [
    "connection"
   ]
  },
  {
   "cell_type": "code",
   "execution_count": 62,
   "metadata": {},
   "outputs": [
    {
     "name": "stdout",
     "output_type": "stream",
     "text": [
      "Error while creating PostgreSQL table relation \"mobile\" already exists\n",
      "\n",
      "PostgreSQL connection is closed\n"
     ]
    }
   ],
   "source": [
    "try:\n",
    "    connection = psycopg2.connect(user = \"raj\",\n",
    "                                  password = \"raj\",\n",
    "                                  host = \"127.0.0.1\",\n",
    "                                  port = \"5432\",\n",
    "                                  database = \"raj\")\n",
    "\n",
    "    cursor = connection.cursor()\n",
    "    \n",
    "    create_table_query = '''CREATE TABLE mobile\n",
    "          (ID INT PRIMARY KEY     NOT NULL,\n",
    "          MODEL           TEXT    NOT NULL,\n",
    "          PRICE         REAL); '''\n",
    "    \n",
    "    cursor.execute(create_table_query)\n",
    "    connection.commit()\n",
    "    print(\"Table created successfully in raj \")\n",
    "\n",
    "except (Exception, psycopg2.DatabaseError) as error :\n",
    "    print (\"Error while creating PostgreSQL table\", error)\n",
    "finally:\n",
    "    #closing database connection.\n",
    "        if(connection):\n",
    "            cursor.close()\n",
    "            connection.close()\n",
    "            print(\"PostgreSQL connection is closed\")"
   ]
  },
  {
   "cell_type": "code",
   "execution_count": 67,
   "metadata": {},
   "outputs": [
    {
     "name": "stdout",
     "output_type": "stream",
     "text": [
      "1 Record inserted successfully into mobile table\n",
      "PostgreSQL connection is closed\n"
     ]
    }
   ],
   "source": [
    "try:\n",
    "   connection = psycopg2.connect(user=\"raj\",\n",
    "                                  password=\"raj\",\n",
    "                                  host=\"127.0.0.1\",\n",
    "                                  port=\"5432\",\n",
    "                                  database=\"raj\")\n",
    "   cursor = connection.cursor()\n",
    "\n",
    "   postgres_insert_query = \"\"\" INSERT INTO mobile (ID, MODEL, PRICE) VALUES (%s,%s,%s)\"\"\"\n",
    "   record_to_insert = (51, 'One Plus 16', 1950)\n",
    "   cursor.execute(postgres_insert_query, record_to_insert)\n",
    "\n",
    "   connection.commit()\n",
    "   count = cursor.rowcount\n",
    "   print (count, \"Record inserted successfully into mobile table\")\n",
    "\n",
    "except (Exception, psycopg2.Error) as error :\n",
    "    if(connection):\n",
    "        print(\"Failed to insert record into mobile table\", error)\n",
    "\n",
    "finally:\n",
    "    #closing database connection.\n",
    "    if(connection):\n",
    "        cursor.close()\n",
    "        connection.close()\n",
    "        print(\"PostgreSQL connection is closed\")\n"
   ]
  },
  {
   "cell_type": "code",
   "execution_count": 68,
   "metadata": {},
   "outputs": [
    {
     "name": "stdout",
     "output_type": "stream",
     "text": [
      "Selecting rows from mobile table using cursor.fetchall\n",
      "Print each row and it's columns values\n",
      "Id =  5\n",
      "Model =  One Plus 6\n",
      "Price  =  950.0 \n",
      "\n",
      "Id =  51\n",
      "Model =  One Plus 16\n",
      "Price  =  1950.0 \n",
      "\n",
      "PostgreSQL connection is closed\n"
     ]
    }
   ],
   "source": [
    "try:\n",
    "   connection = psycopg2.connect(user=\"raj\",\n",
    "                                  password=\"raj\",\n",
    "                                  host=\"127.0.0.1\",\n",
    "                                  port=\"5432\",\n",
    "                                  database=\"raj\")\n",
    "   cursor = connection.cursor()\n",
    "   postgreSQL_select_Query = \"select * from mobile\"\n",
    "\n",
    "   cursor.execute(postgreSQL_select_Query)\n",
    "   print(\"Selecting rows from mobile table using cursor.fetchall\")\n",
    "   mobile_records = cursor.fetchall() \n",
    "   \n",
    "   print(\"Print each row and it's columns values\")\n",
    "   for row in mobile_records:\n",
    "       print(\"Id = \", row[0], )\n",
    "       print(\"Model = \", row[1])\n",
    "       print(\"Price  = \", row[2], \"\\n\")\n",
    "\n",
    "except (Exception, psycopg2.Error) as error :\n",
    "    print (\"Error while fetching data from PostgreSQL\", error)\n",
    "\n",
    "finally:\n",
    "    #closing database connection.\n",
    "    if(connection):\n",
    "        cursor.close()\n",
    "        connection.close()\n",
    "        print(\"PostgreSQL connection is closed\")"
   ]
  }
 ],
 "metadata": {
  "kernelspec": {
   "display_name": "Python 3",
   "language": "python",
   "name": "python3"
  },
  "language_info": {
   "codemirror_mode": {
    "name": "ipython",
    "version": 3
   },
   "file_extension": ".py",
   "mimetype": "text/x-python",
   "name": "python",
   "nbconvert_exporter": "python",
   "pygments_lexer": "ipython3",
   "version": "3.6.8"
  }
 },
 "nbformat": 4,
 "nbformat_minor": 2
}
